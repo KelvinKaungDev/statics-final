{
 "cells": [
  {
   "cell_type": "code",
   "execution_count": 1,
   "id": "1f0e454d",
   "metadata": {},
   "outputs": [
    {
     "data": {
      "text/plain": [
       "(0.22689015835877635, 5.7869029450894995)"
      ]
     },
     "execution_count": 1,
     "metadata": {},
     "output_type": "execute_result"
    }
   ],
   "source": [
    "#95% confidence interval for the Bayesian population mean change on the first therapy\n",
    "import numpy as np \n",
    "import pandas as pd \n",
    "from scipy.stats import t\n",
    "Anor = pd.read_csv(\"Anorexia.dat\", sep = '\\s+') \n",
    "diff = Anor['after'] - Anor['before']\n",
    "Anor['diff'] = diff\n",
    "first = Anor.loc[Anor['therapy'] == 'cb']['diff']\n",
    "m1 = first.mean(); n1 = len(first); s1 = first.std()\n",
    "first_posterior = t(loc = m1, scale = s1/np.sqrt(n1), df = n1-1) \n",
    "first_posterior.interval(0.95)"
   ]
  },
  {
   "cell_type": "code",
   "execution_count": 2,
   "id": "a04a5f2f",
   "metadata": {},
   "outputs": [
    {
     "data": {
      "text/plain": [
       "(-4.817114312983953, 3.9171143129839545)"
      ]
     },
     "execution_count": 2,
     "metadata": {},
     "output_type": "execute_result"
    }
   ],
   "source": [
    "#99% confidence interval for the Bayesian population mean change on the first therapy\n",
    "diff = Anor['after'] - Anor['before']\n",
    "Anor['diff'] = diff\n",
    "third = Anor.loc[Anor['therapy'] == 'c']['diff']\n",
    "m3 = third.mean(); n3 = len(third); s3 = third.std() \n",
    "third_posterior = t(loc = m3, scale = s3/np.sqrt(n3), df = n3-1) \n",
    "third_posterior.interval(0.99)"
   ]
  },
  {
   "cell_type": "code",
   "execution_count": 2,
   "id": "e351ee47",
   "metadata": {},
   "outputs": [
    {
     "name": "stdout",
     "output_type": "stream",
     "text": [
      "[0.68735461 0.73767268]\n",
      "[ 0.6860382553455946 , 0.7384796012256739 ]\n"
     ]
    }
   ],
   "source": [
    "#The 2018 General Social Survey (GSS) in the U.S. asked “Do you believe in hell?”\n",
    "#Of the 1142 respondents, 814 said yes and 328 said no.\n",
    "#The ML estimate of π is πˆ = 814/1142 = 0.713,\n",
    "#and you can check that the 95% score confidence interval (4.7) is (0.686, 0.738). \n",
    "#How does this compare to a Bayesian estimate and posterior interval?\n",
    "from statsmodels.stats.proportion import proportion_confint\n",
    "proportion_confint(814, 1142, method='jeffreys')\n",
    "\n",
    "import pymc3\n",
    "from scipy.stats import beta\n",
    "beta_dist = beta.rvs(size = 5000000, a = 814.5, b = 328.5)\n",
    "print(pymc3.stats.hdi(beta_dist, alpha=0.05))\n",
    "\n",
    "import numpy as np\n",
    "print('[',np.quantile(beta_dist, 0.025),',', np.quantile(beta_dist, 0.975),']')\n",
    "\n"
   ]
  },
  {
   "cell_type": "code",
   "execution_count": 5,
   "id": "2429bc09",
   "metadata": {},
   "outputs": [
    {
     "name": "stdout",
     "output_type": "stream",
     "text": [
      "count    29.000000\n",
      "mean      3.006897\n",
      "std       7.308504\n",
      "min      -9.100000\n",
      "25%      -0.700000\n",
      "50%       1.400000\n",
      "75%       3.900000\n",
      "max      20.900000\n",
      "Name: diff, dtype: float64\n"
     ]
    },
    {
     "name": "stderr",
     "output_type": "stream",
     "text": [
      "/Users/jessicawin/opt/anaconda3/lib/python3.9/site-packages/deprecat/classic.py:215: FutureWarning: In v4.0, pm.sample will return an `arviz.InferenceData` object instead of a `MultiTrace` by default. You can pass return_inferencedata=True or return_inferencedata=False to be safe and silence this warning.\n",
      "  return wrapped_(*args_, **kwargs_)\n",
      "Auto-assigning NUTS sampler...\n",
      "Initializing NUTS using jitter+adapt_diag...\n",
      "Multiprocess sampling (2 chains in 2 jobs)\n",
      "NUTS: [Intercept, sigma]\n"
     ]
    },
    {
     "data": {
      "text/html": [
       "\n",
       "<style>\n",
       "    /* Turns off some styling */\n",
       "    progress {\n",
       "        /* gets rid of default border in Firefox and Opera. */\n",
       "        border: none;\n",
       "        /* Needs to be in here for Safari polyfill so background images work as expected. */\n",
       "        background-size: auto;\n",
       "    }\n",
       "    progress:not([value]), progress:not([value])::-webkit-progress-bar {\n",
       "        background: repeating-linear-gradient(45deg, #7e7e7e, #7e7e7e 10px, #5c5c5c 10px, #5c5c5c 20px);\n",
       "    }\n",
       "    .progress-bar-interrupted, .progress-bar-interrupted::-webkit-progress-bar {\n",
       "        background: #F44336;\n",
       "    }\n",
       "</style>\n"
      ],
      "text/plain": [
       "<IPython.core.display.HTML object>"
      ]
     },
     "metadata": {},
     "output_type": "display_data"
    },
    {
     "data": {
      "text/html": [
       "\n",
       "    <div>\n",
       "      <progress value='102000' class='' max='102000' style='width:300px; height:20px; vertical-align: middle;'></progress>\n",
       "      100.00% [102000/102000 00:17&lt;00:00 Sampling 2 chains, 0 divergences]\n",
       "    </div>\n",
       "    "
      ],
      "text/plain": [
       "<IPython.core.display.HTML object>"
      ]
     },
     "metadata": {},
     "output_type": "display_data"
    },
    {
     "name": "stderr",
     "output_type": "stream",
     "text": [
      "/Users/jessicawin/opt/anaconda3/lib/python3.9/site-packages/scipy/stats/_continuous_distns.py:624: RuntimeWarning: overflow encountered in _beta_ppf\n",
      "  return _boost._beta_ppf(q, a, b)\n",
      "Sampling 2 chains for 1_000 tune and 50_000 draw iterations (2_000 + 100_000 draws total) took 25 seconds.\n"
     ]
    },
    {
     "data": {
      "text/plain": [
       "array([0.27422238, 5.6045742 ])"
      ]
     },
     "execution_count": 5,
     "metadata": {},
     "output_type": "execute_result"
    }
   ],
   "source": [
    "from pymc3 import  *\n",
    "import numpy as np\n",
    "import pandas as pd\n",
    "\n",
    "patient = pd.read_csv('Anorexia.dat', sep='\\s+')\n",
    "diff = patient['after'] - patient['before']\n",
    "patient['diff'] = diff\n",
    "print(patient.loc[patient['therapy'] == 'cb']['diff'].describe())\n",
    "diffCB = patient.loc[patient['therapy'] == 'cb']['diff']\n",
    "\n",
    "data = dict(y = diffCB)\n",
    "B0=10**(-7)\n",
    "with Model() as model:\n",
    "# define highly disperse priors for variance and mean\n",
    "    sigma = InverseGamma('sigma', B0, B0, testval=1.)\n",
    "    intercept = Normal('Intercept', 0, sigma=1/B0)\n",
    "# define likelihood function for normal responses\n",
    "    likelihood = Normal('y',mu=intercept,sigma=sigma,observed=diffCB)\n",
    "    trace = sample(50000, cores=2)  # 100000 posterior samples\n",
    "np.mean(trace['Intercept'])\n",
    "\n",
    "np.std(trace['Intercept'])\n",
    "pymc3.stats.hdi(trace['Intercept'], alpha=0.05)\n",
    "\n"
   ]
  },
  {
   "cell_type": "code",
   "execution_count": null,
   "id": "f73776bf",
   "metadata": {},
   "outputs": [],
   "source": []
  }
 ],
 "metadata": {
  "kernelspec": {
   "display_name": "Python 3.10.5 64-bit",
   "language": "python",
   "name": "python3"
  },
  "language_info": {
   "codemirror_mode": {
    "name": "ipython",
    "version": 3
   },
   "file_extension": ".py",
   "mimetype": "text/x-python",
   "name": "python",
   "nbconvert_exporter": "python",
   "pygments_lexer": "ipython3",
   "version": "3.10.5"
  },
  "vscode": {
   "interpreter": {
    "hash": "aee8b7b246df8f9039afb4144a1f6fd8d2ca17a180786b69acc140d282b71a49"
   }
  }
 },
 "nbformat": 4,
 "nbformat_minor": 5
}
