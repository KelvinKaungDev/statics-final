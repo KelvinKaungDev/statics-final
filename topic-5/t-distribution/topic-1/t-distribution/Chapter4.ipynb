{
 "cells": [
  {
   "cell_type": "code",
   "execution_count": null,
   "id": "ae25ff58",
   "metadata": {},
   "outputs": [],
   "source": [
    "\n"
   ]
  },
  {
   "cell_type": "code",
   "execution_count": 2,
   "id": "6faff7c5",
   "metadata": {},
   "outputs": [
    {
     "name": "stdout",
     "output_type": "stream",
     "text": [
      "[12.70620474  2.22813885  2.04227246  1.98397152  1.96233908  1.96020124]\n"
     ]
    },
    {
     "data": {
      "text/plain": [
       "0.9750000000063903"
      ]
     },
     "execution_count": 2,
     "metadata": {},
     "output_type": "execute_result"
    }
   ],
   "source": [
    "#Section 4.4.1 The t Distribution\n",
    "\"\"\"\"For a particular df value, we denote the t quantile having probability a in the right-tail\n",
    "(and so is the 1 − a quantile) by ta,df . The t quantile scores are supplied by software and by\n",
    "Internet apps.9 The R function qt gives t quantiles; pt gives t cumulative probabilities. For\n",
    "95% confidence intervals, we use t quantile scores having right-tail probability of 0.025 and\n",
    "cumulative probability of 0.975. Here they are when df = 1, 10, 30, 100, 1000, 10000:\"\"\"\n",
    "#We use the t distribution in the construction of a CI for the mean of a normal population.\n",
    "import numpy as np\n",
    "df = np.array([1, 10, 30, 100, 1000, 10000])\n",
    "from scipy.stats import t\n",
    "arr=t.ppf(0.975, df) # 0.975-quantiles for specified df values\n",
    "print(arr)\n",
    "t.cdf(1.96020124, 10000)\n",
    "# cumulative probability at t=1.96020124 when df=10000"
   ]
  },
  {
   "cell_type": "code",
   "execution_count": 2,
   "id": "2c78cb17",
   "metadata": {},
   "outputs": [
    {
     "name": "stdout",
     "output_type": "stream",
     "text": [
      "   subject therapy  before  after\n",
      "0        1      cb    80.5   82.2\n",
      "1        2      cb    84.9   85.6\n",
      "2        3      cb    81.5   81.4\n",
      "   subject therapy  before  after  change\n",
      "0        1      cb    80.5   82.2     1.7\n",
      "1        2      cb    84.9   85.6     0.7\n",
      "2        3      cb    81.5   81.4    -0.1\n"
     ]
    },
    {
     "data": {
      "text/plain": [
       "(-0.7432794440477513, 6.757072547496028)"
      ]
     },
     "execution_count": 2,
     "metadata": {},
     "output_type": "execute_result"
    },
    {
     "data": {
      "image/png": "[encoded data removed]",
      "text/plain": [
       "<Figure size 432x288 with 1 Axes>"
      ]
     },
     "metadata": {
      "needs_background": "light"
     },
     "output_type": "display_data"
    }
   ],
   "source": [
    "\"\"\"\"An experimental study compared three therapies for young girls suffering from anorexia,\n",
    "an eating disorder. For each girl, weight was measured before and after a fixed period of\n",
    "treatment designed to aid weight gain. For the 29 girls undergoing the cognitive behavioral\n",
    "(cb) therapy, the weights at the end of the study minus the weights at the beginning (in\n",
    "pounds) were11\n",
    "1.7, 0.7, −0.1, −0.7, −3.5, 14.9, 3.5, 17.1, −7.6, 1.6, 11.7, 6.1, 1.1, −4.0, 20.9,\n",
    "−9.3, 2.1, 1.4, −0.3, −3.7, −1.4, −0.8, 2.4, 12.6, 1.9, 3.9, 0.1, 15.4, −0.7\n",
    "Let µ denote the population mean change in weight, if this therapy could be administered\n",
    "to the conceptual population of anorexia sufferers.\n",
    "Using R to analyze the data, we obtain results for descriptive and inferential statistics\"\"\"\n",
    "#4.3 Confidence Intervals for Means\n",
    "#We next find descriptive statistics and CIs for the Section 4.4.3 example of analyzing weight\n",
    "#changes of anorexic girls who are undergoing a cognitive behavioral therapy:\n",
    "\n",
    "import pandas as pd\n",
    "import numpy as np\n",
    "import matplotlib.pyplot as plt\n",
    "Anor = pd.read_csv('http://stat4ds.rwth-aachen.de/data/Anorexia.dat', sep='\\s+')\n",
    "print(Anor.head(3))\n",
    "change = Anor['after'] - Anor['before']\n",
    "Anor['change'] = change # add new variable to the data frame\n",
    "print(Anor.head(3))\n",
    "Anor.loc[Anor['therapy'] == 'cb']['change'].describe()\n",
    "# showing only n and mean and standard deviation of change\n",
    "bins=list(range(-10,30,5)) \n",
    "\n",
    "# histogram with pre-specified bins:\n",
    "plt.hist(Anor.loc[Anor['therapy']=='cb']['change'],bins, edgecolor='k')\n",
    "plt.xlabel('Weight change'); plt.ylabel('Frequency')\n",
    "changeCB = Anor.loc[Anor['therapy'] == 'cb']['change']\n",
    "import statsmodels.stats.api as sms\n",
    "sms.DescrStatsW(changeCB).tconfint_mean() # default alpha=0.05# 95% CI for mean change\n",
    "sms.DescrStatsW(changeCB).tconfint_mean(alpha=0.01)\n"
   ]
  },
  {
   "cell_type": "code",
   "execution_count": 5,
   "id": "ef38c550",
   "metadata": {},
   "outputs": [
    {
     "name": "stdout",
     "output_type": "stream",
     "text": [
      "mean1 - mean2 = 3.456896551724137\n",
      "0.95 confidence interval: [-0.68013704  7.59393014]\n",
      "df = 53\n",
      "mean1 - mean2 = 3.456896551724137\n",
      "0.95 confidence interval: [-0.70446319  7.61825629]\n",
      "df = 50.97065330426787\n"
     ]
    }
   ],
   "source": [
    "#Section 4.5.3 Example: Comparing a Therapy to a Control Group;\n",
    "#Section 4.5.4 Confidence Interval Comparing Two Proportions; \n",
    "#Appendix B,Section B.4.4 Confidence Intervals Comparing Means and Comparing Proportions.\n",
    "\"\"\"\"The study described in Section 4.4.3 used a cognitive behavioral therapy to treat a sample\n",
    "of teenage girls who suffered from anorexia. The study, like most such studies, also had a\n",
    "control group that received no treatment. Then researchers analyzed how the mean weight\n",
    "change compared for the treatment and control groups. The girls in the study were randomly\n",
    "assigned to the cognitive behavioral therapy (Group 1) or to the control group (Group 2).\n",
    "Table 4.1 summarizes the results.\"\"\"\n",
    "#Summary of results comparing treatment group to control group for weight change (in pounds) in anorexia study.\n",
    "#Group     SampleSize   Mean Standard Deviation\n",
    "#Treatment 29          3.01   7.31\n",
    "#Control   26         −0.45   7.99\n",
    "\n",
    "#To construct these CIs, assuming equal or unequal population variances for the two groups\n",
    "import numpy as np\n",
    "from scipy.stats import t\n",
    "Anor = pd.read_csv('http://stat4ds.rwth-aachen.de/data/Anorexia.dat', sep='\\s+')\n",
    "change = Anor['after'] - Anor['before']\n",
    "Anor['change'] = change\n",
    "def t2ind_confint(y1, y2, equal_var = True, alpha = 0.05):\n",
    "# y1, y2: vectors or data frames of values for groups A and B\n",
    "    n1 = len(y1); n2 = len(y2);\n",
    "    v1 = np.var(y1)*n1/(n1-1); \n",
    "    v2 = np.var(y2)*n2/(n2-1);\n",
    "    if equal_var:\n",
    "        df = n1 + n2 - 2\n",
    "        vardiff = ((n1-1)*v1+(n2-1)*v2)/(n1+n2-2)*(1/n1 + 1/n2)\n",
    "    else:\n",
    "        df = (v1/n1 + v2/n2)**2/(v1**2/(n1**2*(n1-1)) + v2**2/(n2**2*(n2-1)))\n",
    "        vardiff = v1/n1 + v2/n2\n",
    "    se = np.sqrt(vardiff)\n",
    "    qt = t.ppf(1 - alpha/2, df) # t quantile for 100(1-alpha)% CI\n",
    "    mean_diff = np.mean(y1) - np.mean(y2)\n",
    "    confint = mean_diff + np.array([-1, 1]) * qt * se\n",
    "    conf = 1 - alpha\n",
    "    return mean_diff, confint, conf, df\n",
    "#we implement this function to find a 95% CI for the difference between the weight\n",
    "#changes for the cognitive behavioral therapy and the control groups in the anorexia study:\n",
    "cogbehav = Anor.loc[Anor['therapy']=='cb']['change']\n",
    "control = Anor.loc[Anor['therapy']=='c']['change']\n",
    "mean_diff, confint, conf, df = t2ind_confint(cogbehav,control)\n",
    "print('mean1 - mean2 =', mean_diff) # assume equal variances\n",
    "print(conf, 'confidence interval:', confint)\n",
    "print('df =', df)\n",
    "df = 53\n",
    "mean_diff, confint, conf, df = t2ind_confint(cogbehav,control, equal_var=False)\n",
    "print('mean1 - mean2 =', mean_diff)\n",
    "print(conf, 'confidence interval:', confint)\n",
    "print('df =', df)"
   ]
  },
  {
   "cell_type": "code",
   "execution_count": 3,
   "id": "6dea0a52",
   "metadata": {},
   "outputs": [
    {
     "ename": "AttributeError",
     "evalue": "module 'pymc3.stats' has no attribute 'hpd'",
     "output_type": "error",
     "traceback": [
      "\u001b[1;31m---------------------------------------------------------------------------\u001b[0m",
      "\u001b[1;31mAttributeError\u001b[0m                            Traceback (most recent call last)",
      "Input \u001b[1;32mIn [3]\u001b[0m, in \u001b[0;36m<cell line: 13>\u001b[1;34m()\u001b[0m\n\u001b[0;32m     11\u001b[0m \u001b[38;5;28;01mfrom\u001b[39;00m \u001b[38;5;21;01mscipy\u001b[39;00m\u001b[38;5;21;01m.\u001b[39;00m\u001b[38;5;21;01mstats\u001b[39;00m \u001b[38;5;28;01mimport\u001b[39;00m beta\n\u001b[0;32m     12\u001b[0m beta_dist \u001b[38;5;241m=\u001b[39m beta\u001b[38;5;241m.\u001b[39mrvs(size \u001b[38;5;241m=\u001b[39m \u001b[38;5;241m5000000\u001b[39m, a \u001b[38;5;241m=\u001b[39m \u001b[38;5;241m814.5\u001b[39m, b \u001b[38;5;241m=\u001b[39m \u001b[38;5;241m328.5\u001b[39m)\n\u001b[1;32m---> 13\u001b[0m \u001b[38;5;28mprint\u001b[39m(\u001b[43mpm\u001b[49m\u001b[38;5;241;43m.\u001b[39;49m\u001b[43mstats\u001b[49m\u001b[38;5;241;43m.\u001b[39;49m\u001b[43mhpd\u001b[49m(beta_dist, alpha\u001b[38;5;241m=\u001b[39m\u001b[38;5;241m0.05\u001b[39m))\n\u001b[0;32m     14\u001b[0m \u001b[38;5;66;03m# 95% HPD interval when use Jeffreys prior\u001b[39;00m\n\u001b[0;32m     15\u001b[0m \u001b[38;5;28;01mimport\u001b[39;00m \u001b[38;5;21;01mnumpy\u001b[39;00m \u001b[38;5;28;01mas\u001b[39;00m \u001b[38;5;21;01mnp\u001b[39;00m\n",
      "\u001b[1;31mAttributeError\u001b[0m: module 'pymc3.stats' has no attribute 'hpd'"
     ]
    }
   ],
   "source": [
    "#Section 4.7 The Bayesian Approach to Statistical Inference (See subsection 4.7.3);\n",
    "#Appendix B, Section B.4.6 Bayesian Posterior Intervals for Proportions and Means.\n",
    "\"\"\"\"The 2018 General Social Survey (GSS) in the U.S. asked “Do you believe in hell?” Of the\n",
    "1142 respondents, 814 said yes and 328 said no. The ML estimate of π is πˆ = 814/1142 =\n",
    "0.713, and you can check that the 95% score confidence interval (4.7) is (0.686, 0.738). How\n",
    "does this compare to a Bayesian estimate and posterior interval?\"\"\"\n",
    "from statsmodels.stats.proportion import proportion_confint\n",
    "proportion_confint(814, 1142, method='jeffreys')\n",
    " # 95% Jeffreys posterior interval\n",
    "import pymc3 as pm\n",
    "from scipy.stats import beta\n",
    "beta_dist = beta.rvs(size = 5000000, a = 814.5, b = 328.5)\n",
    "print(pm.stats.hpd(beta_dist, alpha=0.05))\n",
    "# 95% HPD interval when use Jeffreys prior\n",
    "import numpy as np\n",
    "print('[',np.quantile(beta_dist, 0.025),',', np.quantile(beta_dist, 0.975),']')\n"
   ]
  },
  {
   "cell_type": "code",
   "execution_count": null,
   "id": "30f166ba",
   "metadata": {},
   "outputs": [],
   "source": []
  },
  {
   "cell_type": "code",
   "execution_count": null,
   "id": "273841a3",
   "metadata": {},
   "outputs": [],
   "source": []
  },
  {
   "cell_type": "code",
   "execution_count": null,
   "id": "025553b4",
   "metadata": {},
   "outputs": [],
   "source": []
  },
  {
   "cell_type": "code",
   "execution_count": null,
   "id": "7adf854d",
   "metadata": {},
   "outputs": [],
   "source": []
  }
 ],
 "metadata": {
  "kernelspec": {
   "display_name": "Python 3.10.5 64-bit",
   "language": "python",
   "name": "python3"
  },
  "language_info": {
   "codemirror_mode": {
    "name": "ipython",
    "version": 3
   },
   "file_extension": ".py",
   "mimetype": "text/x-python",
   "name": "python",
   "nbconvert_exporter": "python",
   "pygments_lexer": "ipython3",
   "version": "3.10.5"
  },
  "vscode": {
   "interpreter": {
    "hash": "aee8b7b246df8f9039afb4144a1f6fd8d2ca17a180786b69acc140d282b71a49"
   }
  }
 },
 "nbformat": 4,
 "nbformat_minor": 5
}
